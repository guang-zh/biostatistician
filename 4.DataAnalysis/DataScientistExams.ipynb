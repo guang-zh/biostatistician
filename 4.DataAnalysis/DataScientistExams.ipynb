{
 "cells": [
  {
   "cell_type": "markdown",
   "id": "600896c9",
   "metadata": {},
   "source": [
    "# Data Scientist Exams"
   ]
  },
  {
   "cell_type": "code",
   "execution_count": 2,
   "id": "949b662a",
   "metadata": {
    "vscode": {
     "languageId": "r"
    }
   },
   "outputs": [
    {
     "ename": "SyntaxError",
     "evalue": "invalid syntax (2636475871.py, line 3)",
     "output_type": "error",
     "traceback": [
      "\u001b[1;36m  Cell \u001b[1;32mIn[2], line 3\u001b[1;36m\u001b[0m\n\u001b[1;33m    df_data <- data.frame(x=c(1:100), y = sample(c(1:100), 100))\u001b[0m\n\u001b[1;37m                               ^\u001b[0m\n\u001b[1;31mSyntaxError\u001b[0m\u001b[1;31m:\u001b[0m invalid syntax\n"
     ]
    }
   ],
   "source": [
    "library(ggplot2)\n",
    "\n",
    "df_data <- data.frame(x=c(1:100), y = sample(c(1:100), 100))\n"
   ]
  },
  {
   "cell_type": "code",
   "execution_count": null,
   "id": "e62e20aa",
   "metadata": {},
   "outputs": [],
   "source": []
  }
 ],
 "metadata": {
  "kernelspec": {
   "display_name": "Python 3 (ipykernel)",
   "language": "python",
   "name": "python3"
  },
  "language_info": {
   "codemirror_mode": {
    "name": "ipython",
    "version": 3
   },
   "file_extension": ".py",
   "mimetype": "text/x-python",
   "name": "python",
   "nbconvert_exporter": "python",
   "pygments_lexer": "ipython3",
   "version": "3.11.5"
  }
 },
 "nbformat": 4,
 "nbformat_minor": 5
}
